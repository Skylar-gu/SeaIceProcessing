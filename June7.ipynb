{
 "cells": [
  {
   "cell_type": "code",
   "execution_count": 1,
   "metadata": {},
   "outputs": [],
   "source": [
    "import numpy as np\n",
    "import matplotlib.pyplot as plt\n",
    "import cv2 as cv\n",
    "\n",
    "import time\n",
    "import os\n",
    "import glob\n",
    "import rasterio\n",
    "\n",
    "from natsort import natsorted\n",
    "from shapely import geometry\n",
    "from shapely.validation import make_valid"
   ]
  },
  {
   "cell_type": "code",
   "execution_count": 2,
   "metadata": {},
   "outputs": [],
   "source": [
    "def extract_img_folder(folder) : \n",
    "    \n",
    "    img_list = []\n",
    "    \n",
    "    for img in natsorted(glob.glob(folder+'/*.tif')):\n",
    "        \n",
    "        with rasterio.open(img) as f:\n",
    "            img = f.read(1)\n",
    "        \n",
    "        img_list.append(img)\n",
    "\n",
    "    return img_list"
   ]
  },
  {
   "cell_type": "code",
   "execution_count": 6,
   "metadata": {},
   "outputs": [
    {
     "data": {
      "text/plain": [
       "[array([[0, 0, 0, ..., 0, 0, 0],\n",
       "        [0, 0, 0, ..., 0, 0, 0],\n",
       "        [0, 0, 0, ..., 0, 0, 0],\n",
       "        ...,\n",
       "        [0, 0, 0, ..., 0, 0, 0],\n",
       "        [0, 0, 0, ..., 0, 0, 0],\n",
       "        [0, 0, 0, ..., 0, 0, 0]], dtype=uint16),\n",
       " array([[0, 0, 0, ..., 0, 0, 0],\n",
       "        [0, 0, 0, ..., 0, 0, 0],\n",
       "        [0, 0, 0, ..., 0, 0, 0],\n",
       "        ...,\n",
       "        [0, 0, 0, ..., 0, 0, 0],\n",
       "        [0, 0, 0, ..., 0, 0, 0],\n",
       "        [0, 0, 0, ..., 0, 0, 0]], dtype=uint8)]"
      ]
     },
     "execution_count": 6,
     "metadata": {},
     "output_type": "execute_result"
    }
   ],
   "source": [
    "extract_img_folder(r'C:\\Users\\simon\\OneDrive\\2.ICE\\MClureStrait_2024_05_05')"
   ]
  },
  {
   "cell_type": "code",
   "execution_count": 3,
   "metadata": {},
   "outputs": [],
   "source": [
    "def read_img(namefile) : \n",
    "    \n",
    "    with rasterio.open(namefile) as f:\n",
    "            img = f.read(1)\n",
    "            \n",
    "    return img"
   ]
  },
  {
   "cell_type": "code",
   "execution_count": 8,
   "metadata": {},
   "outputs": [
    {
     "data": {
      "text/plain": [
       "array([[0, 0, 0, ..., 0, 0, 0],\n",
       "       [0, 0, 0, ..., 0, 0, 0],\n",
       "       [0, 0, 0, ..., 0, 0, 0],\n",
       "       ...,\n",
       "       [0, 0, 0, ..., 0, 0, 0],\n",
       "       [0, 0, 0, ..., 0, 0, 0],\n",
       "       [0, 0, 0, ..., 0, 0, 0]], dtype=uint16)"
      ]
     },
     "execution_count": 8,
     "metadata": {},
     "output_type": "execute_result"
    }
   ],
   "source": [
    "read_img(r\"C:\\Users\\simon\\OneDrive\\2.ICE\\MClureStrait_2024_05_05\\MClureStrait_2024_05_05.tif\")"
   ]
  },
  {
   "cell_type": "code",
   "execution_count": null,
   "metadata": {},
   "outputs": [],
   "source": [
    "def canny_edge_opencv(img_list, low, high, land_mask, fill_area = False) : \n",
    "    \n",
    "    \"\"\"\n",
    "    Function that applies the canny edge algorithm to a list of radar images. \n",
    "    \n",
    "    To the the value for the land to be, we use the value of two pixels taken in the ocean. \n",
    "    If the either one of the two is lower on the gray scale, the land will be blacker. \n",
    "    \n",
    "    Inputs : \n",
    "        img_list -> list of images\n",
    "        low -> lower threshold for the detection algorithm (int)\n",
    "        high -> highest threshold for the detection algorithm (int)\n",
    "        land_mask -> Binary mask differientiating the land from the ocean (1 : land, 0 : ocean)\n",
    "        circle -> coordinates of the circle marking the radar rage (specified in the parameter file) (ints)\n",
    "        fill_area -> Set to true when computing the complete field of view of the radar, otherwise set to false. \n",
    "        \n",
    "    Returns:\n",
    "        edges_list -> List of canny edge outputs corresponding to the img_list\n",
    "        gray_list -> same as img_list but the images are now on the gray scale\n",
    "    \"\"\"\n",
    "\n",
    "    \n",
    "    #setting the initial parameters and list to be appended to\n",
    "    it = 0\n",
    "    edges_list = []\n",
    "    gray_list = []\n",
    "    \n",
    "    #main loop\n",
    "    for img in img_list : \n",
    "        \n",
    "        print('Canny edge algorithm iteration : ', it)\n",
    "        \n",
    "        #Finding the land\n",
    "        idx_land = np.where(land_mask == 1)\n",
    "        \n",
    "        #pixel test to determine the land fill value\n",
    "        first_pixel_test  = np.mean(img[50, 250])\n",
    "        second_pixel_test = np.mean(img[250, 50])\n",
    "        \n",
    "        if fill_area :\n",
    "            fill_value = 255\n",
    "        \n",
    "        else : \n",
    "\n",
    "            if first_pixel_test < 35 or second_pixel_test < 35 : \n",
    "                fill_value = 15\n",
    "            \n",
    "            else : \n",
    "                fill_value = 56\n",
    "            \n",
    "        #setting the color of the land\n",
    "        img[idx_land] = fill_value   \n",
    "\n",
    "        #Computing the contours\n",
    "        edges_img = cv.Canny(img, low, high)\n",
    "            \n",
    "        #appending to the lists\n",
    "        edges_list.append(edges_img)\n",
    "        gray_list.append(img)\n",
    "        \n",
    "        it += 1\n",
    "        \n",
    "    return edges_list, gray_list"
   ]
  },
  {
   "cell_type": "code",
   "execution_count": 9,
   "metadata": {},
   "outputs": [
    {
     "ename": "NameError",
     "evalue": "name 'canny_edge_opencv' is not defined",
     "output_type": "error",
     "traceback": [
      "\u001b[1;31m---------------------------------------------------------------------------\u001b[0m",
      "\u001b[1;31mNameError\u001b[0m                                 Traceback (most recent call last)",
      "Cell \u001b[1;32mIn[9], line 4\u001b[0m\n\u001b[0;32m      1\u001b[0m img_list \u001b[38;5;241m=\u001b[39m extract_img_folder(\u001b[38;5;124mr\u001b[39m\u001b[38;5;124m'\u001b[39m\u001b[38;5;124mC:\u001b[39m\u001b[38;5;124m\\\u001b[39m\u001b[38;5;124mUsers\u001b[39m\u001b[38;5;124m\\\u001b[39m\u001b[38;5;124msimon\u001b[39m\u001b[38;5;124m\\\u001b[39m\u001b[38;5;124mOneDrive\u001b[39m\u001b[38;5;124m\\\u001b[39m\u001b[38;5;124m2.ICE\u001b[39m\u001b[38;5;124m\\\u001b[39m\u001b[38;5;124mMClureStrait_2024_05_05\u001b[39m\u001b[38;5;124m'\u001b[39m)\n\u001b[0;32m      2\u001b[0m land_mask \u001b[38;5;241m=\u001b[39m read_img(\u001b[38;5;124mr\u001b[39m\u001b[38;5;124m\"\u001b[39m\u001b[38;5;124mC:\u001b[39m\u001b[38;5;124m\\\u001b[39m\u001b[38;5;124mUsers\u001b[39m\u001b[38;5;124m\\\u001b[39m\u001b[38;5;124msimon\u001b[39m\u001b[38;5;124m\\\u001b[39m\u001b[38;5;124mOneDrive\u001b[39m\u001b[38;5;124m\\\u001b[39m\u001b[38;5;124m2.ICE\u001b[39m\u001b[38;5;124m\\\u001b[39m\u001b[38;5;124mMClureStrait_2024_05_05\u001b[39m\u001b[38;5;124m\\\u001b[39m\u001b[38;5;124mMClureStrait_2024_05_05.tif\u001b[39m\u001b[38;5;124m\"\u001b[39m)\n\u001b[1;32m----> 4\u001b[0m \u001b[43mcanny_edge_opencv\u001b[49m(img_list, \u001b[38;5;241m100\u001b[39m, \u001b[38;5;241m200\u001b[39m, land_mask, fill_area \u001b[38;5;241m=\u001b[39m \u001b[38;5;28;01mFalse\u001b[39;00m)\n",
      "\u001b[1;31mNameError\u001b[0m: name 'canny_edge_opencv' is not defined"
     ]
    }
   ],
   "source": [
    "img_list = extract_img_folder(r'C:\\Users\\simon\\OneDrive\\2.ICE\\MClureStrait_2024_05_05')\n",
    "land_mask = read_img(r\"C:\\Users\\simon\\OneDrive\\2.ICE\\MClureStrait_2024_05_05\\MClureStrait_2024_05_05.tif\")\n",
    "\n",
    "canny_edge_opencv(img_list, 100, 200, land_mask, fill_area = False)"
   ]
  }
 ],
 "metadata": {
  "kernelspec": {
   "display_name": "Python 3",
   "language": "python",
   "name": "python3"
  },
  "language_info": {
   "codemirror_mode": {
    "name": "ipython",
    "version": 3
   },
   "file_extension": ".py",
   "mimetype": "text/x-python",
   "name": "python",
   "nbconvert_exporter": "python",
   "pygments_lexer": "ipython3",
   "version": "3.11.9"
  }
 },
 "nbformat": 4,
 "nbformat_minor": 2
}
